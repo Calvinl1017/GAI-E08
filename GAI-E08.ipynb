{
 "cells": [
  {
   "cell_type": "code",
   "execution_count": 4,
   "id": "b6da107b",
   "metadata": {},
   "outputs": [],
   "source": [
    "%%capture\n",
    "%%sh\n",
    "chmod u+x ./helpful-script.sh\n",
    "./helpful-script.sh setup"
   ]
  },
  {
   "cell_type": "code",
   "execution_count": 5,
   "id": "58f69bed",
   "metadata": {},
   "outputs": [],
   "source": [
    "import otter\n",
    "grader = otter.Notebook('GAI-E08.ipynb')"
   ]
  },
  {
   "cell_type": "markdown",
   "id": "notebook_title",
   "metadata": {},
   "source": [
    "# Week 8 GenAI Learning Log\n",
    "\n",
    "## Your Mission: Understand Populations, Samples, and Distributions"
   ]
  },
  {
   "cell_type": "markdown",
   "id": "introduction",
   "metadata": {},
   "source": [
    "Welcome to your next GenAI learning module! 🎉 This week, we transition from probability to the core of statistical inference: **sampling and describing data**. Last week, you focused on **Probability**—the mathematics of chance. This assignment will guide you through the process of correctly gathering data (**sampling**), visualizing it (**distributions**), and summarizing it numerically (**summary statistics**). As always, your AI assistant is here to help you explore these concepts and prepare for hands-on practice in class. Let's dive in!\n",
    "\n",
    "### What You'll Need\n",
    "\n",
    "* Access to TerrierGPT or ChatGPT (or your preferred AI assistant)\n",
    "* This notebook for recording your responses\n",
    "* About 2-3 hours of focused exploration time (but not necessarily all at once!)\n",
    "\n",
    "**Important:** This is a GREEN ZONE assignment. AI collaboration is not just allowed but encouraged!"
   ]
  },
  {
   "cell_type": "markdown",
   "id": "part1_intro",
   "metadata": {},
   "source": [
    "## Part 1: Sampling Concepts (75 min)\n",
    "\n",
    "**Your Mission:** Understand the foundational concepts of gathering data from large groups.\n",
    "\n",
    "---"
   ]
  },
  {
   "cell_type": "markdown",
   "id": "q1_1_prompt",
   "metadata": {
    "deletable": false,
    "editable": false
   },
   "source": [
    "### Question 1.1: Population vs. Sample\n",
    "\n",
    "Ask your AI assistant:\n",
    "\n",
    "\"I need to understand how we get data from the real world: **What's the difference between a population and a sample?**\"\n",
    "\n",
    "In the variable `pop_vs_sample`, define a **population** and a **sample**, and give one simple example that illustrates the difference (e.g., all students in a university vs. 100 students surveyed)."
   ]
  },
  {
   "cell_type": "code",
   "execution_count": 6,
   "id": "q1_1_code",
   "metadata": {
    "tags": [
     "otter_answer_cell"
    ]
   },
   "outputs": [],
   "source": [
    "pop_vs_sample = \"A population is the complete set of individuals or items that share a common characteristic and that a researcher wants to study. A sample is a smaller group selected from the population that is used to represent the whole population for research purposes.\""
   ]
  },
  {
   "cell_type": "code",
   "execution_count": 7,
   "id": "5271cf5a",
   "metadata": {
    "deletable": false,
    "editable": false
   },
   "outputs": [
    {
     "data": {
      "text/html": [
       "<p><strong><pre style='display: inline;'>q1.1</pre></strong> passed! 🌈</p>"
      ],
      "text/plain": [
       "q1.1 results: All test cases passed!"
      ]
     },
     "execution_count": 7,
     "metadata": {},
     "output_type": "execute_result"
    }
   ],
   "source": [
    "grader.check(\"q1.1\")"
   ]
  },
  {
   "cell_type": "code",
   "execution_count": 8,
   "id": "7e71ae3e",
   "metadata": {},
   "outputs": [
    {
     "name": "stdout",
     "output_type": "stream",
     "text": [
      "Enumerating objects: 4, done.\n",
      "Counting objects: 100% (4/4), done.\n",
      "Delta compression using up to 2 threads\n",
      "Compressing objects: 100% (3/3), done.\n",
      "Writing objects: 100% (3/3), 804 bytes | 804.00 KiB/s, done.\n",
      "Total 3 (delta 1), reused 0 (delta 0), pack-reused 0 (from 0)\n",
      "remote: Resolving deltas: 100% (1/1), completed with 1 local object.\u001b[K\n",
      "To https://github.com/Calvinl1017/GAI-E08.git\n",
      "   2804b7f..be9b119  main -> main\n"
     ]
    }
   ],
   "source": [
    "!./helpful-script.sh save 1>/dev/null"
   ]
  },
  {
   "cell_type": "markdown",
   "id": "q1_2_prompt",
   "metadata": {
    "deletable": false,
    "editable": false
   },
   "source": [
    "### Question 1.2: Why We Sample\n",
    "\n",
    "Ask your AI assistant:\n",
    "\n",
    "\"I need to understand how we get data from the real world: **Why can't we always study the entire population?**\"\n",
    "\n",
    "In the variable `why_sample`, state two primary reasons (e.g., cost, feasibility, time) why studying the entire population is often impossible or impractical."
   ]
  },
  {
   "cell_type": "code",
   "execution_count": 9,
   "id": "q1_2_code",
   "metadata": {
    "tags": [
     "otter_answer_cell"
    ]
   },
   "outputs": [],
   "source": [
    "why_sample = \"Studying the entire population is often impossible or impractical primarily because of cost and feasibility. Collecting data from every individual in a large population can require an enormous amount of money and resources. Additionally, it may be infeasible due to time constraints or because some members of the population are difficult to access.\""
   ]
  },
  {
   "cell_type": "code",
   "execution_count": 10,
   "id": "4c8cf0e8",
   "metadata": {
    "deletable": false,
    "editable": false
   },
   "outputs": [
    {
     "data": {
      "text/html": [
       "<p><strong><pre style='display: inline;'>q1.2</pre></strong> passed! 🎉</p>"
      ],
      "text/plain": [
       "q1.2 results: All test cases passed!"
      ]
     },
     "execution_count": 10,
     "metadata": {},
     "output_type": "execute_result"
    }
   ],
   "source": [
    "grader.check(\"q1.2\")"
   ]
  },
  {
   "cell_type": "code",
   "execution_count": 11,
   "id": "34b3ef33",
   "metadata": {},
   "outputs": [
    {
     "name": "stdout",
     "output_type": "stream",
     "text": [
      "Enumerating objects: 5, done.\n",
      "Counting objects: 100% (5/5), done.\n",
      "Delta compression using up to 2 threads\n",
      "Compressing objects: 100% (3/3), done.\n",
      "Writing objects: 100% (3/3), 400 bytes | 400.00 KiB/s, done.\n",
      "Total 3 (delta 2), reused 0 (delta 0), pack-reused 0 (from 0)\n",
      "remote: Resolving deltas: 100% (2/2), completed with 2 local objects.\u001b[K\n",
      "To https://github.com/Calvinl1017/GAI-E08.git\n",
      "   be9b119..570ece9  main -> main\n"
     ]
    }
   ],
   "source": [
    "!./helpful-script.sh save 1>/dev/null"
   ]
  },
  {
   "cell_type": "markdown",
   "id": "q1_3_prompt",
   "metadata": {
    "deletable": false,
    "editable": false
   },
   "source": [
    "### Question 1.3: Good vs. Bad Samples\n",
    "\n",
    "Ask your AI assistant:\n",
    "\n",
    "\"I need to understand how we get data from the real world: **What makes a good sample vs a bad sample?**\"\n",
    "\n",
    "In the variable `good_vs_bad_sample`, describe the key characteristic that determines a **good sample** (e.g., representativeness) and one example of a **bad sample** (e.g., convenience sample)."
   ]
  },
  {
   "cell_type": "code",
   "execution_count": 12,
   "id": "q1_3_code",
   "metadata": {
    "tags": [
     "otter_answer_cell"
    ]
   },
   "outputs": [],
   "source": [
    "good_vs_bad_sample = \"A good sample is one that is representative of the population, meaning it accurately reflects the characteristics and diversity of the entire group. This ensures that conclusions drawn from the sample apply to the larger population. A bad sample would be a convenience sample, where participants are chosen based on ease of access rather than randomness, which can lead to biased or unrepresentative results.\""
   ]
  },
  {
   "cell_type": "code",
   "execution_count": 13,
   "id": "9320fdab",
   "metadata": {
    "deletable": false,
    "editable": false
   },
   "outputs": [
    {
     "data": {
      "text/html": [
       "<p><strong><pre style='display: inline;'>q1.3</pre></strong> passed! 🚀</p>"
      ],
      "text/plain": [
       "q1.3 results: All test cases passed!"
      ]
     },
     "execution_count": 13,
     "metadata": {},
     "output_type": "execute_result"
    }
   ],
   "source": [
    "grader.check(\"q1.3\")"
   ]
  },
  {
   "cell_type": "code",
   "execution_count": 14,
   "id": "120aaa68",
   "metadata": {},
   "outputs": [
    {
     "name": "stdout",
     "output_type": "stream",
     "text": [
      "Enumerating objects: 5, done.\n",
      "Counting objects: 100% (5/5), done.\n",
      "Delta compression using up to 2 threads\n",
      "Compressing objects: 100% (3/3), done.\n",
      "Writing objects: 100% (3/3), 410 bytes | 410.00 KiB/s, done.\n",
      "Total 3 (delta 2), reused 0 (delta 0), pack-reused 0 (from 0)\n",
      "remote: Resolving deltas: 100% (2/2), completed with 2 local objects.\u001b[K\n",
      "To https://github.com/Calvinl1017/GAI-E08.git\n",
      "   570ece9..947a034  main -> main\n"
     ]
    }
   ],
   "source": [
    "!./helpful-script.sh save 1>/dev/null"
   ]
  },
  {
   "cell_type": "markdown",
   "id": "q1_4_prompt",
   "metadata": {
    "deletable": false,
    "editable": false
   },
   "source": [
    "### Question 1.4: Sampling Methods\n",
    "\n",
    "Ask your AI assistant:\n",
    "\n",
    "\"I need to understand how we get data from the real world: **What are different sampling methods and when do we use each?**\"\n",
    "\n",
    "In the variable `sampling_methods`, describe two different types of random sampling methods (e.g., simple random sampling, stratified sampling) and briefly explain when a data scientist would choose one over the other."
   ]
  },
  {
   "cell_type": "code",
   "execution_count": 15,
   "id": "q1_4_code",
   "metadata": {
    "tags": [
     "otter_answer_cell"
    ]
   },
   "outputs": [],
   "source": [
    "sampling_methods = \"Simple random sampling is a method where each member of the population has an equal chance of being selected. It is useful when the population is relatively uniform and no specific subgroups need to be considered. Stratified sampling involves dividing the population into distinct subgroups, or strata, based on shared characteristics and then randomly sampling from each stratum. This method is preferred when the population has important subgroups, and the data scientist wants to ensure representation from each group to improve accuracy and reduce sampling bias.\""
   ]
  },
  {
   "cell_type": "code",
   "execution_count": 16,
   "id": "fb2acf65",
   "metadata": {
    "deletable": false,
    "editable": false
   },
   "outputs": [
    {
     "data": {
      "text/html": [
       "<p><strong><pre style='display: inline;'>q1.4</pre></strong> passed! 💯</p>"
      ],
      "text/plain": [
       "q1.4 results: All test cases passed!"
      ]
     },
     "execution_count": 16,
     "metadata": {},
     "output_type": "execute_result"
    }
   ],
   "source": [
    "grader.check(\"q1.4\")"
   ]
  },
  {
   "cell_type": "code",
   "execution_count": 17,
   "id": "c2e43292",
   "metadata": {},
   "outputs": [
    {
     "name": "stdout",
     "output_type": "stream",
     "text": [
      "Enumerating objects: 5, done.\n",
      "Counting objects: 100% (5/5), done.\n",
      "Delta compression using up to 2 threads\n",
      "Compressing objects: 100% (3/3), done.\n",
      "Writing objects: 100% (3/3), 408 bytes | 408.00 KiB/s, done.\n",
      "Total 3 (delta 2), reused 0 (delta 0), pack-reused 0 (from 0)\n",
      "remote: Resolving deltas: 100% (2/2), completed with 2 local objects.\u001b[K\n",
      "To https://github.com/Calvinl1017/GAI-E08.git\n",
      "   947a034..56ac213  main -> main\n"
     ]
    }
   ],
   "source": [
    "!./helpful-script.sh save 1>/dev/null"
   ]
  },
  {
   "cell_type": "markdown",
   "id": "q1_5_prompt",
   "metadata": {
    "deletable": false,
    "editable": false
   },
   "source": [
    "### Question 1.5: Sampling Method Exercise\n",
    "\n",
    "Imagine two researchers want to sample BU students for a survey:\n",
    "\n",
    "1.  **Ben** took every single BU student email address and randomly chose 1,000 to send his survey link.\n",
    "2.  **Jerry** stood outside the CDS building from 10 am to 12 pm and asked students passing by to fill out his survey.\n",
    "\n",
    "In the variable `sampling_comparison`, identify what Ben's and Jerry's sampling methods are called, and explain which method is better for achieving a **representative sample** and why."
   ]
  },
  {
   "cell_type": "code",
   "execution_count": 20,
   "id": "q1_5_code",
   "metadata": {
    "tags": [
     "otter_answer_cell"
    ]
   },
   "outputs": [],
   "source": [
    "sampling_comparison = \"Ben's sampling method is called simple random sampling because he randomly selected 1,000 students from the entire population of BU students. Jerry's method is a convenience sampling since he surveyed students who happened to pass by the CDS building during a specific timeframe.\""
   ]
  },
  {
   "cell_type": "code",
   "execution_count": 21,
   "id": "aa55eda9",
   "metadata": {
    "deletable": false,
    "editable": false
   },
   "outputs": [
    {
     "data": {
      "text/html": [
       "<p><strong><pre style='display: inline;'>q1.5</pre></strong> passed! 🎉</p>"
      ],
      "text/plain": [
       "q1.5 results: All test cases passed!"
      ]
     },
     "execution_count": 21,
     "metadata": {},
     "output_type": "execute_result"
    }
   ],
   "source": [
    "grader.check(\"q1.5\")"
   ]
  },
  {
   "cell_type": "code",
   "execution_count": 22,
   "id": "4ff0799d",
   "metadata": {},
   "outputs": [
    {
     "name": "stdout",
     "output_type": "stream",
     "text": [
      "Enumerating objects: 5, done.\n",
      "Counting objects: 100% (5/5), done.\n",
      "Delta compression using up to 2 threads\n",
      "Compressing objects: 100% (3/3), done.\n",
      "Writing objects: 100% (3/3), 767 bytes | 767.00 KiB/s, done.\n",
      "Total 3 (delta 2), reused 0 (delta 0), pack-reused 0 (from 0)\n",
      "remote: Resolving deltas: 100% (2/2), completed with 2 local objects.\u001b[K\n",
      "To https://github.com/Calvinl1017/GAI-E08.git\n",
      "   56ac213..35bd379  main -> main\n"
     ]
    }
   ],
   "source": [
    "!./helpful-script.sh save 1>/dev/null"
   ]
  },
  {
   "cell_type": "markdown",
   "id": "part2_intro",
   "metadata": {},
   "source": [
    "\n",
    "--- \n",
    "\n",
    "## Part 2: Sampling Bias and Problems (60 min)\n",
    "\n",
    "**Your Mission:** Identify potential pitfalls and errors that can undermine data quality.\n",
    "\n",
    "---"
   ]
  },
  {
   "cell_type": "markdown",
   "id": "q2_1_prompt",
   "metadata": {
    "deletable": false,
    "editable": false
   },
   "source": [
    "### Question 2.1: What is Sampling Bias?\n",
    "\n",
    "Ask your AI assistant:\n",
    "\n",
    "\"What can go wrong with sampling? **What is sampling bias and how does it happen?**\"\n",
    "\n",
    "In the variable `sampling_bias_def`, define **sampling bias** and explain one common way it can occur (e.g., self-selection bias, undercoverage)."
   ]
  },
  {
   "cell_type": "code",
   "execution_count": 23,
   "id": "q2_1_code",
   "metadata": {
    "tags": [
     "otter_answer_cell"
    ]
   },
   "outputs": [],
   "source": [
    "sampling_bias_def = \"Sampling bias occurs when the sample collected is not representative of the population, leading to systematic errors in the results. One common way sampling bias happens is through self-selection bias, where participants choose to be part of the sample, often leading to overrepresentation of certain views or characteristics and underrepresentation of others.\""
   ]
  },
  {
   "cell_type": "code",
   "execution_count": 24,
   "id": "6cd5700a",
   "metadata": {
    "deletable": false,
    "editable": false
   },
   "outputs": [
    {
     "data": {
      "text/html": [
       "<p><strong><pre style='display: inline;'>q2.1</pre></strong> passed! 🍀</p>"
      ],
      "text/plain": [
       "q2.1 results: All test cases passed!"
      ]
     },
     "execution_count": 24,
     "metadata": {},
     "output_type": "execute_result"
    }
   ],
   "source": [
    "grader.check(\"q2.1\")"
   ]
  },
  {
   "cell_type": "code",
   "execution_count": 25,
   "id": "d5cc9d39",
   "metadata": {},
   "outputs": [
    {
     "name": "stdout",
     "output_type": "stream",
     "text": [
      "Enumerating objects: 5, done.\n",
      "Counting objects: 100% (5/5), done.\n",
      "Delta compression using up to 2 threads\n",
      "Compressing objects: 100% (3/3), done.\n",
      "Writing objects: 100% (3/3), 388 bytes | 388.00 KiB/s, done.\n",
      "Total 3 (delta 2), reused 0 (delta 0), pack-reused 0 (from 0)\n",
      "remote: Resolving deltas: 100% (2/2), completed with 2 local objects.\u001b[K\n",
      "To https://github.com/Calvinl1017/GAI-E08.git\n",
      "   35bd379..48a1e6a  main -> main\n"
     ]
    }
   ],
   "source": [
    "!./helpful-script.sh save 1>/dev/null"
   ]
  },
  {
   "cell_type": "markdown",
   "id": "q2_2_prompt",
   "metadata": {
    "deletable": false,
    "editable": false
   },
   "source": [
    "### Question 2.2: Examples of Biased Samples\n",
    "\n",
    "Ask your AI assistant:\n",
    "\n",
    "\"What can go wrong with sampling? **Give me examples of biased samples from real surveys or studies**\"\n",
    "\n",
    "In the variable `biased_example`, describe one concrete historical or theoretical example of a biased sample and explain why it failed to represent the population accurately."
   ]
  },
  {
   "cell_type": "code",
   "execution_count": 26,
   "id": "q2_2_code",
   "metadata": {
    "tags": [
     "otter_answer_cell"
    ]
   },
   "outputs": [],
   "source": [
    "biased_example = \"One famous example of a biased sample is the 1936 Literary Digest presidential poll, which predicted the wrong winner in the U.S. presidential election. The poll surveyed readers of the magazine by sending questionnaires to a large list of people, including telephone directories and car owners. During the Great Depression, this led to undercoverage because poorer citizens—the majority of voters—were less likely to own phones or cars and were therefore excluded, resulting in a sample that was not representative of the entire voting population.\""
   ]
  },
  {
   "cell_type": "code",
   "execution_count": 27,
   "id": "a6c97e9f",
   "metadata": {
    "deletable": false,
    "editable": false
   },
   "outputs": [
    {
     "data": {
      "text/html": [
       "<p><strong><pre style='display: inline;'>q2.2</pre></strong> passed! 🚀</p>"
      ],
      "text/plain": [
       "q2.2 results: All test cases passed!"
      ]
     },
     "execution_count": 27,
     "metadata": {},
     "output_type": "execute_result"
    }
   ],
   "source": [
    "grader.check(\"q2.2\")"
   ]
  },
  {
   "cell_type": "code",
   "execution_count": 28,
   "id": "4191f456",
   "metadata": {},
   "outputs": [
    {
     "name": "stdout",
     "output_type": "stream",
     "text": [
      "Enumerating objects: 7, done.\n",
      "Counting objects: 100% (7/7), done.\n",
      "Delta compression using up to 2 threads\n",
      "Compressing objects: 100% (4/4), done.\n",
      "Writing objects: 100% (4/4), 2.31 KiB | 2.31 MiB/s, done.\n",
      "Total 4 (delta 3), reused 0 (delta 0), pack-reused 0 (from 0)\n",
      "remote: Resolving deltas: 100% (3/3), completed with 3 local objects.\u001b[K\n",
      "To https://github.com/Calvinl1017/GAI-E08.git\n",
      "   48a1e6a..3ebd2c6  main -> main\n"
     ]
    }
   ],
   "source": [
    "!./helpful-script.sh save 1>/dev/null"
   ]
  },
  {
   "cell_type": "markdown",
   "id": "q2_3_prompt",
   "metadata": {
    "deletable": false,
    "editable": false
   },
   "source": [
    "### Question 2.3: The Effect of Response Rates\n",
    "\n",
    "Ask your AI assistant:\n",
    "\n",
    "\"What can go wrong with sampling? **How do response rates affect sample quality?**\"\n",
    "\n",
    "In the variable `response_rate_effect`, explain the potential problem that arises when a survey has a low response rate (i.e., non-response bias)."
   ]
  },
  {
   "cell_type": "code",
   "execution_count": 29,
   "id": "q2_3_code",
   "metadata": {
    "tags": [
     "otter_answer_cell"
    ]
   },
   "outputs": [],
   "source": [
    "response_rate_effect = \"When a survey has a low response rate, non-response bias can occur, meaning the individuals who choose not to respond may have different opinions or characteristics from those who do respond. This can skew the results because the sample no longer accurately reflects the entire population, reducing the reliability and generalizability of the findings.\""
   ]
  },
  {
   "cell_type": "code",
   "execution_count": 30,
   "id": "197fa90c",
   "metadata": {
    "deletable": false,
    "editable": false
   },
   "outputs": [
    {
     "data": {
      "text/html": [
       "<p><strong><pre style='display: inline;'>q2.3</pre></strong> passed! 🌈</p>"
      ],
      "text/plain": [
       "q2.3 results: All test cases passed!"
      ]
     },
     "execution_count": 30,
     "metadata": {},
     "output_type": "execute_result"
    }
   ],
   "source": [
    "grader.check(\"q2.3\")"
   ]
  },
  {
   "cell_type": "code",
   "execution_count": 31,
   "id": "a340936a",
   "metadata": {},
   "outputs": [
    {
     "name": "stdout",
     "output_type": "stream",
     "text": [
      "Enumerating objects: 5, done.\n",
      "Counting objects: 100% (5/5), done.\n",
      "Delta compression using up to 2 threads\n",
      "Compressing objects: 100% (3/3), done.\n",
      "Writing objects: 100% (3/3), 417 bytes | 417.00 KiB/s, done.\n",
      "Total 3 (delta 2), reused 0 (delta 0), pack-reused 0 (from 0)\n",
      "remote: Resolving deltas: 100% (2/2), completed with 2 local objects.\u001b[K\n",
      "To https://github.com/Calvinl1017/GAI-E08.git\n",
      "   3ebd2c6..be0fde6  main -> main\n"
     ]
    }
   ],
   "source": [
    "!./helpful-script.sh save 1>/dev/null"
   ]
  },
  {
   "cell_type": "markdown",
   "id": "q2_4_prompt",
   "metadata": {
    "deletable": false,
    "editable": false
   },
   "source": [
    "### Question 2.4: Representative Samples\n",
    "\n",
    "Ask your AI assistant:\n",
    "\n",
    "\"What can go wrong with sampling? **What is a representative sample and why is it important?**\"\n",
    "\n",
    "In the variable `representative_sample_importance`, define a **representative sample** and explain why achieving one is the main goal of statistical sampling."
   ]
  },
  {
   "cell_type": "code",
   "execution_count": 32,
   "id": "q2_4_code",
   "metadata": {
    "tags": [
     "otter_answer_cell"
    ]
   },
   "outputs": [],
   "source": [
    "representative_sample_importance = \"A representative sample is a subset of a population that accurately reflects the characteristics and diversity of the entire population. Achieving a representative sample is the main goal of statistical sampling because it ensures that conclusions drawn from the sample can be generalized to the whole population, providing valid and reliable results.\""
   ]
  },
  {
   "cell_type": "code",
   "execution_count": 33,
   "id": "d761c30b",
   "metadata": {
    "deletable": false,
    "editable": false
   },
   "outputs": [
    {
     "data": {
      "text/html": [
       "<p><strong><pre style='display: inline;'>q2.4</pre></strong> passed! 🙌</p>"
      ],
      "text/plain": [
       "q2.4 results: All test cases passed!"
      ]
     },
     "execution_count": 33,
     "metadata": {},
     "output_type": "execute_result"
    }
   ],
   "source": [
    "grader.check(\"q2.4\")"
   ]
  },
  {
   "cell_type": "code",
   "execution_count": 34,
   "id": "1b1ef9ce",
   "metadata": {},
   "outputs": [
    {
     "name": "stdout",
     "output_type": "stream",
     "text": [
      "Enumerating objects: 5, done.\n",
      "Counting objects: 100% (5/5), done.\n",
      "Delta compression using up to 2 threads\n",
      "Compressing objects: 100% (3/3), done.\n",
      "Writing objects: 100% (3/3), 429 bytes | 429.00 KiB/s, done.\n",
      "Total 3 (delta 2), reused 0 (delta 0), pack-reused 0 (from 0)\n",
      "remote: Resolving deltas: 100% (2/2), completed with 2 local objects.\u001b[K\n",
      "To https://github.com/Calvinl1017/GAI-E08.git\n",
      "   be0fde6..731d225  main -> main\n"
     ]
    }
   ],
   "source": [
    "!./helpful-script.sh save 1>/dev/null"
   ]
  },
  {
   "cell_type": "markdown",
   "id": "part3_intro",
   "metadata": {},
   "source": [
    "\n",
    "--- \n",
    "\n",
    "## Part 3: Data Distributions (90 min)\n",
    "\n",
    "**Your Mission:** Understand how to visualize and interpret the shape of your data.\n",
    "\n",
    "---"
   ]
  },
  {
   "cell_type": "markdown",
   "id": "q3_1_prompt",
   "metadata": {
    "deletable": false,
    "editable": false
   },
   "source": [
    "### Question 3.1: What is a Distribution?\n",
    "\n",
    "Ask your AI assistant:\n",
    "\n",
    "\"Now I want to understand how data is distributed: **What is a distribution and why do we care about the shape of data?**\"\n",
    "\n",
    "In the variable `distribution_meaning`, define a **data distribution** and explain why its shape is a critical piece of information for data analysis."
   ]
  },
  {
   "cell_type": "code",
   "execution_count": 35,
   "id": "q3_1_code",
   "metadata": {
    "tags": [
     "otter_answer_cell"
    ]
   },
   "outputs": [],
   "source": [
    "distribution_meaning = \"A data distribution describes how values are spread or arranged across different possible outcomes in a dataset. The shape of the distribution—whether it is symmetric, skewed, uniform, or has multiple peaks—is critical because it informs analysts about the underlying patterns, helps identify outliers, guides the choice of statistical methods, and influences the interpretation of the data.\""
   ]
  },
  {
   "cell_type": "code",
   "execution_count": 36,
   "id": "a4de5539",
   "metadata": {
    "deletable": false,
    "editable": false
   },
   "outputs": [
    {
     "data": {
      "text/html": [
       "<p><strong><pre style='display: inline;'>q3.1</pre></strong> passed! ✨</p>"
      ],
      "text/plain": [
       "q3.1 results: All test cases passed!"
      ]
     },
     "execution_count": 36,
     "metadata": {},
     "output_type": "execute_result"
    }
   ],
   "source": [
    "grader.check(\"q3.1\")"
   ]
  },
  {
   "cell_type": "raw",
   "id": "7bc17136",
   "metadata": {
    "vscode": {
     "languageId": "raw"
    }
   },
   "source": [
    "!./helpful-script.sh save 1>/dev/null"
   ]
  },
  {
   "cell_type": "markdown",
   "id": "q3_2_prompt",
   "metadata": {
    "deletable": false,
    "editable": false
   },
   "source": [
    "### Question 3.2: Histograms\n",
    "\n",
    "Ask your AI assistant:\n",
    "\n",
    "\"Now I want to understand how data is distributed: **What do histograms tell us about our data?**\"\n",
    "\n",
    "In the variable `histogram_info`, explain what a **histogram** visualizes and list two specific things a data scientist can learn by looking at one (e.g., skewness, modality)."
   ]
  },
  {
   "cell_type": "code",
   "execution_count": 37,
   "id": "q3_2_code",
   "metadata": {
    "tags": [
     "otter_answer_cell"
    ]
   },
   "outputs": [],
   "source": [
    "histogram_info = \"A histogram visualizes the frequency distribution of a dataset by showing how many data points fall within specified intervals or bins. By looking at a histogram, a data scientist can learn about the skewness of the data (whether it is symmetric or skewed left or right) and the modality (the number of peaks or modes), which helps in understanding the data's overall distribution and identifying any unusual patterns.\""
   ]
  },
  {
   "cell_type": "code",
   "execution_count": 38,
   "id": "d8324683",
   "metadata": {
    "deletable": false,
    "editable": false
   },
   "outputs": [
    {
     "data": {
      "text/html": [
       "<p><strong><pre style='display: inline;'>q3.2</pre></strong> passed! 🍀</p>"
      ],
      "text/plain": [
       "q3.2 results: All test cases passed!"
      ]
     },
     "execution_count": 38,
     "metadata": {},
     "output_type": "execute_result"
    }
   ],
   "source": [
    "grader.check(\"q3.2\")"
   ]
  },
  {
   "cell_type": "code",
   "execution_count": 39,
   "id": "30e29ea1",
   "metadata": {},
   "outputs": [
    {
     "name": "stdout",
     "output_type": "stream",
     "text": [
      "Enumerating objects: 5, done.\n",
      "Counting objects: 100% (5/5), done.\n",
      "Delta compression using up to 2 threads\n",
      "Compressing objects: 100% (3/3), done.\n",
      "Writing objects: 100% (3/3), 465 bytes | 465.00 KiB/s, done.\n",
      "Total 3 (delta 2), reused 0 (delta 0), pack-reused 0 (from 0)\n",
      "remote: Resolving deltas: 100% (2/2), completed with 2 local objects.\u001b[K\n",
      "To https://github.com/Calvinl1017/GAI-E08.git\n",
      "   731d225..c44e9d1  main -> main\n"
     ]
    }
   ],
   "source": [
    "!./helpful-script.sh save 1>/dev/null"
   ]
  },
  {
   "cell_type": "markdown",
   "id": "q3_3_prompt",
   "metadata": {
    "deletable": false,
    "editable": false
   },
   "source": [
    "### Question 3.3: Normal Distributions\n",
    "\n",
    "Ask your AI assistant:\n",
    "\n",
    "\"Now I want to understand how data is distributed: **What are normal distributions and why are they important?**\"\n",
    "\n",
    "In the variable `normal_dist_importance`, describe the key visual characteristic of a **normal distribution** (the 'bell curve') and explain why it is so frequently used in statistics and data science."
   ]
  },
  {
   "cell_type": "code",
   "execution_count": 40,
   "id": "q3_3_code",
   "metadata": {
    "tags": [
     "otter_answer_cell"
    ]
   },
   "outputs": [],
   "source": [
    "normal_dist_importance = \"A normal distribution is visually characterized by a symmetric, bell-shaped curve where most data points cluster around the mean, and frequencies taper off evenly on both sides. It is important because many natural phenomena follow this pattern, and numerous statistical methods and tests assume data is normally distributed, making it foundational for inference, probability calculations, and predictive modeling in data science.\""
   ]
  },
  {
   "cell_type": "code",
   "execution_count": 41,
   "id": "acdbcbab",
   "metadata": {
    "deletable": false,
    "editable": false
   },
   "outputs": [
    {
     "data": {
      "text/html": [
       "<p><strong><pre style='display: inline;'>q3.3</pre></strong> passed! 🌟</p>"
      ],
      "text/plain": [
       "q3.3 results: All test cases passed!"
      ]
     },
     "execution_count": 41,
     "metadata": {},
     "output_type": "execute_result"
    }
   ],
   "source": [
    "grader.check(\"q3.3\")"
   ]
  },
  {
   "cell_type": "code",
   "execution_count": 42,
   "id": "59996049",
   "metadata": {},
   "outputs": [
    {
     "name": "stdout",
     "output_type": "stream",
     "text": [
      "Enumerating objects: 5, done.\n",
      "Counting objects: 100% (5/5), done.\n",
      "Delta compression using up to 2 threads\n",
      "Compressing objects: 100% (3/3), done.\n",
      "Writing objects: 100% (3/3), 420 bytes | 420.00 KiB/s, done.\n",
      "Total 3 (delta 2), reused 0 (delta 0), pack-reused 0 (from 0)\n",
      "remote: Resolving deltas: 100% (2/2), completed with 2 local objects.\u001b[K\n",
      "To https://github.com/Calvinl1017/GAI-E08.git\n",
      "   c44e9d1..b9dedd7  main -> main\n"
     ]
    }
   ],
   "source": [
    "!./helpful-script.sh save 1>/dev/null"
   ]
  },
  {
   "cell_type": "markdown",
   "id": "q3_4_prompt",
   "metadata": {
    "deletable": false,
    "editable": false
   },
   "source": [
    "### Question 3.4: Outliers\n",
    "\n",
    "Ask your AI assistant:\n",
    "\n",
    "\"Now I want to understand how data is distributed: **What are outliers and how do they affect our analysis?**\"\n",
    "\n",
    "In the variable `outlier_effect`, define an **outlier** and briefly explain one way it can distort the conclusions drawn from a dataset."
   ]
  },
  {
   "cell_type": "code",
   "execution_count": 43,
   "id": "q3_4_code",
   "metadata": {
    "tags": [
     "otter_answer_cell"
    ]
   },
   "outputs": [],
   "source": [
    "outlier_effect = \"An outlier is a data point that significantly differs from the other observations in a dataset. Outliers can distort analysis by skewing summary statistics like the mean, leading to misleading conclusions about the typical value or trends in the data.\""
   ]
  },
  {
   "cell_type": "code",
   "execution_count": 44,
   "id": "131ba265",
   "metadata": {
    "deletable": false,
    "editable": false
   },
   "outputs": [
    {
     "data": {
      "text/html": [
       "<p><strong><pre style='display: inline;'>q3.4</pre></strong> passed! 🎉</p>"
      ],
      "text/plain": [
       "q3.4 results: All test cases passed!"
      ]
     },
     "execution_count": 44,
     "metadata": {},
     "output_type": "execute_result"
    }
   ],
   "source": [
    "grader.check(\"q3.4\")"
   ]
  },
  {
   "cell_type": "code",
   "execution_count": 45,
   "id": "de0e5667",
   "metadata": {},
   "outputs": [
    {
     "name": "stdout",
     "output_type": "stream",
     "text": [
      "Enumerating objects: 7, done.\n",
      "Counting objects: 100% (7/7), done.\n",
      "Delta compression using up to 2 threads\n",
      "Compressing objects: 100% (4/4), done.\n",
      "Writing objects: 100% (4/4), 1.81 KiB | 1.81 MiB/s, done.\n",
      "Total 4 (delta 3), reused 0 (delta 0), pack-reused 0 (from 0)\n",
      "remote: Resolving deltas: 100% (3/3), completed with 3 local objects.\u001b[K\n",
      "To https://github.com/Calvinl1017/GAI-E08.git\n",
      "   b9dedd7..e60f9d9  main -> main\n"
     ]
    }
   ],
   "source": [
    "!./helpful-script.sh save 1>/dev/null"
   ]
  },
  {
   "cell_type": "markdown",
   "id": "histogram_exercise_intro",
   "metadata": {},
   "source": [
    "### Exercise: Interpreting a Sample Distribution\n",
    "\n",
    "The code block below generates a sample dataset. Run the code to visualize the data distribution before answering the next two questions."
   ]
  },
  {
   "cell_type": "code",
   "execution_count": null,
   "id": "histogram_code",
   "metadata": {},
   "outputs": [],
   "source": [
    "import numpy as np\n",
    "import pandas as pd\n",
    "import matplotlib.pyplot as plt\n",
    "\n",
    "# Set a seed for reproducibility\n",
    "np.random.seed(42)\n",
    "\n",
    "# Generating sample data\n",
    "skewed_data = np.random.exponential(scale=20000, size=500) + 30000\n",
    "salaries_data = np.append(skewed_data, [500000])\n",
    "\n",
    "# Create and display the histogram\n",
    "plt.figure(figsize=(10, 6))\n",
    "plt.hist(salaries_data, bins=30, edgecolor='black', alpha=0.7)\n",
    "plt.title('Distribution of Hypothetical Salaries (Right Skewed with Outlier)')\n",
    "plt.xlabel('Salary ($)')\n",
    "plt.ylabel('Frequency')\n",
    "plt.axvline(np.median(salaries_data), color='red', linestyle='dashed', linewidth=1, label='Median')\n",
    "plt.axvline(np.mean(salaries_data), color='green', linestyle='dashed', linewidth=1, label='Mean')\n",
    "plt.legend()\n",
    "plt.show()\n"
   ]
  },
  {
   "cell_type": "markdown",
   "id": "q3_5_prompt",
   "metadata": {
    "deletable": false,
    "editable": false
   },
   "source": [
    "### Question 3.5: Identifying Skewness\n",
    "\n",
    "Based on the histogram generated above, what is the skewness of the `salaries_data` distribution (left, right or normally distributed), and how do the mean (green line) and median (red line) relate to each other in this skewed shape?"
   ]
  },
  {
   "cell_type": "code",
   "execution_count": 46,
   "id": "q3_5_code",
   "metadata": {
    "tags": [
     "otter_answer_cell"
    ]
   },
   "outputs": [],
   "source": [
    "skewness_and_center = \"The distribution of the salaries_data is right-skewed, as shown by the long tail extending toward higher salary values, including the outlier at $500,000. In a right-skewed distribution, the mean (green dashed line) is pulled to the right and is greater than the median (red dashed line), which remains closer to the bulk of the lower salary data. This discrepancy occurs because the mean is sensitive to extreme high values, whereas the median represents the middle value and is less affected by outliers.\""
   ]
  },
  {
   "cell_type": "code",
   "execution_count": 47,
   "id": "3610bed0",
   "metadata": {
    "deletable": false,
    "editable": false
   },
   "outputs": [
    {
     "data": {
      "text/html": [
       "<p><strong><pre style='display: inline;'>q3.5</pre></strong> passed! 🚀</p>"
      ],
      "text/plain": [
       "q3.5 results: All test cases passed!"
      ]
     },
     "execution_count": 47,
     "metadata": {},
     "output_type": "execute_result"
    }
   ],
   "source": [
    "grader.check(\"q3.5\")"
   ]
  },
  {
   "cell_type": "code",
   "execution_count": 48,
   "id": "c981d709",
   "metadata": {},
   "outputs": [
    {
     "name": "stdout",
     "output_type": "stream",
     "text": [
      "Enumerating objects: 5, done.\n",
      "Counting objects: 100% (5/5), done.\n",
      "Delta compression using up to 2 threads\n",
      "Compressing objects: 100% (3/3), done.\n",
      "Writing objects: 100% (3/3), 384 bytes | 384.00 KiB/s, done.\n",
      "Total 3 (delta 2), reused 0 (delta 0), pack-reused 0 (from 0)\n",
      "remote: Resolving deltas: 100% (2/2), completed with 2 local objects.\u001b[K\n",
      "To https://github.com/Calvinl1017/GAI-E08.git\n",
      "   e60f9d9..b80e83b  main -> main\n"
     ]
    }
   ],
   "source": [
    "!./helpful-script.sh save 1>/dev/null"
   ]
  },
  {
   "cell_type": "markdown",
   "id": "q3_6_prompt",
   "metadata": {
    "deletable": false,
    "editable": false
   },
   "source": [
    "### Question 3.6: Identifying the Outlier\n",
    "\n",
    "Referring to the histogram, is there an obvious outlier present in the `salaries_data`? If yes, briefly describe where the outlier is located relative to the rest of the data. Also, explain the effect of the outlier on the mean and median."
   ]
  },
  {
   "cell_type": "code",
   "execution_count": 49,
   "id": "q3_6_code",
   "metadata": {
    "tags": [
     "otter_answer_cell"
    ]
   },
   "outputs": [],
   "source": [
    "outlier_location = \"Yes, there is an obvious outlier present in the salaries_data. It is located far to the right of the rest of the data at $500,000, well beyond the main cluster of salary values. This extreme high value pulls the mean upward, making it larger than the median. The median, being the middle value, remains closer to the center of the bulk of the data and is less affected by the outlier, providing a better measure of the typical salary in this skewed distribution.\""
   ]
  },
  {
   "cell_type": "code",
   "execution_count": 50,
   "id": "0e24b848",
   "metadata": {
    "deletable": false,
    "editable": false
   },
   "outputs": [
    {
     "data": {
      "text/html": [
       "<p><strong><pre style='display: inline;'>q3.6</pre></strong> passed! ✨</p>"
      ],
      "text/plain": [
       "q3.6 results: All test cases passed!"
      ]
     },
     "execution_count": 50,
     "metadata": {},
     "output_type": "execute_result"
    }
   ],
   "source": [
    "grader.check(\"q3.6\")"
   ]
  },
  {
   "cell_type": "code",
   "execution_count": 51,
   "id": "41ed7031",
   "metadata": {},
   "outputs": [
    {
     "name": "stdout",
     "output_type": "stream",
     "text": [
      "Enumerating objects: 5, done.\n",
      "Counting objects: 100% (5/5), done.\n",
      "Delta compression using up to 2 threads\n",
      "Compressing objects: 100% (3/3), done.\n",
      "Writing objects: 100% (3/3), 402 bytes | 402.00 KiB/s, done.\n",
      "Total 3 (delta 2), reused 0 (delta 0), pack-reused 0 (from 0)\n",
      "remote: Resolving deltas: 100% (2/2), completed with 2 local objects.\u001b[K\n",
      "To https://github.com/Calvinl1017/GAI-E08.git\n",
      "   b80e83b..ea4fc32  main -> main\n"
     ]
    }
   ],
   "source": [
    "!./helpful-script.sh save 1>/dev/null"
   ]
  },
  {
   "cell_type": "markdown",
   "id": "part4_intro",
   "metadata": {},
   "source": [
    "\n",
    "--- \n",
    "\n",
    "## Part 4: Summary Statistics (55 min)\n",
    "\n",
    "**Your Mission:** Learn how to summarize and quantify the key features of a data distribution.\n",
    "\n",
    "---"
   ]
  },
  {
   "cell_type": "markdown",
   "id": "q4_1_prompt",
   "metadata": {
    "deletable": false,
    "editable": false
   },
   "source": [
    "### Question 4.1: Measures of Center\n",
    "\n",
    "Ask your AI assistant:\n",
    "\n",
    "\"How do we summarize distributions with numbers? **What do mean, median, and mode tell us differently?**\"\n",
    "\n",
    "In the variable `center_measures_difference`, summarize the unique information provided by the **mean**, **median**, and **mode**."
   ]
  },
  {
   "cell_type": "code",
   "execution_count": 52,
   "id": "q4_1_code",
   "metadata": {
    "tags": [
     "otter_answer_cell"
    ]
   },
   "outputs": [],
   "source": [
    "center_measures_difference = \"The mean tells us the arithmetic average of the data, representing the central value by summing all observations and dividing by the number of observations. The median indicates the middle value when the data is ordered, showing the point that divides the data into two equal halves. The mode reveals the most frequently occurring value in the dataset, highlighting the common or popular outcome. Each measure provides different insights: mean is sensitive to outliers, median is robust to skewed data, and mode indicates the most common observation.\""
   ]
  },
  {
   "cell_type": "code",
   "execution_count": 53,
   "id": "685af135",
   "metadata": {
    "deletable": false,
    "editable": false
   },
   "outputs": [
    {
     "data": {
      "text/html": [
       "<p><strong><pre style='display: inline;'>q4.1</pre></strong> passed! 🌈</p>"
      ],
      "text/plain": [
       "q4.1 results: All test cases passed!"
      ]
     },
     "execution_count": 53,
     "metadata": {},
     "output_type": "execute_result"
    }
   ],
   "source": [
    "grader.check(\"q4.1\")"
   ]
  },
  {
   "cell_type": "code",
   "execution_count": 54,
   "id": "970c01b2",
   "metadata": {},
   "outputs": [
    {
     "name": "stdout",
     "output_type": "stream",
     "text": [
      "Enumerating objects: 5, done.\n",
      "Counting objects: 100% (5/5), done.\n",
      "Delta compression using up to 2 threads\n",
      "Compressing objects: 100% (3/3), done.\n",
      "Writing objects: 100% (3/3), 423 bytes | 423.00 KiB/s, done.\n",
      "Total 3 (delta 2), reused 0 (delta 0), pack-reused 0 (from 0)\n",
      "remote: Resolving deltas: 100% (2/2), completed with 2 local objects.\u001b[K\n",
      "To https://github.com/Calvinl1017/GAI-E08.git\n",
      "   ea4fc32..ef501f7  main -> main\n"
     ]
    }
   ],
   "source": [
    "!./helpful-script.sh save 1>/dev/null"
   ]
  },
  {
   "cell_type": "markdown",
   "id": "q4_2_prompt",
   "metadata": {
    "deletable": false,
    "editable": false
   },
   "source": [
    "### Question 4.2: Measures of Spread\n",
    "\n",
    "Ask your AI assistant:\n",
    "\n",
    "\"How do we summarize distributions with numbers? **How do we measure spread (range, standard deviation)?**\"\n",
    "\n",
    "In the variable `spread_measures`, define the **range** and the **standard deviation**, and explain what each one tells you about the variability of the data."
   ]
  },
  {
   "cell_type": "code",
   "execution_count": null,
   "id": "q4_2_code",
   "metadata": {
    "tags": [
     "otter_answer_cell"
    ]
   },
   "outputs": [],
   "source": [
    "spread_measures = ..."
   ]
  },
  {
   "cell_type": "code",
   "execution_count": null,
   "id": "fa251fa5",
   "metadata": {
    "deletable": false,
    "editable": false
   },
   "outputs": [],
   "source": [
    "grader.check(\"q4.2\")"
   ]
  },
  {
   "cell_type": "code",
   "execution_count": null,
   "id": "c5cf73a4",
   "metadata": {},
   "outputs": [],
   "source": [
    "!./helpful-script.sh save 1>/dev/null"
   ]
  },
  {
   "cell_type": "markdown",
   "id": "q4_3_prompt",
   "metadata": {
    "deletable": false,
    "editable": false
   },
   "source": [
    "### Question 4.3: Outliers' Effect on Summary Statistics (Theory)\n",
    "\n",
    "Ask your AI assistant:\n",
    "\n",
    "\"How do we summarize distributions with numbers? **How do outliers affect different summary statistics?**\"\n",
    "\n",
    "In the variable `outlier_on_stats`, explain how an **outlier** affects the **mean** and how it affects the **median**."
   ]
  },
  {
   "cell_type": "code",
   "execution_count": null,
   "id": "q4_3_code",
   "metadata": {
    "tags": [
     "otter_answer_cell"
    ]
   },
   "outputs": [],
   "source": [
    "outlier_on_stats = ..."
   ]
  },
  {
   "cell_type": "code",
   "execution_count": null,
   "id": "e7019438",
   "metadata": {
    "deletable": false,
    "editable": false
   },
   "outputs": [],
   "source": [
    "grader.check(\"q4.3\")"
   ]
  },
  {
   "cell_type": "code",
   "execution_count": null,
   "id": "55142def",
   "metadata": {},
   "outputs": [],
   "source": [
    "!./helpful-script.sh save 1>/dev/null"
   ]
  },
  {
   "cell_type": "markdown",
   "id": "q4_4_prompt",
   "metadata": {
    "deletable": false,
    "editable": false
   },
   "source": [
    "### Question 4.4: Best Measure of Center (General)\n",
    "\n",
    "Ask your AI assistant:\n",
    "\n",
    "\"How do we summarize distributions with numbers? **When is each measure of center most useful?**\"\n",
    "\n",
    "In the variable `best_measure_of_center`, explain which measure of center (**mean, median, or mode**) is generally considered the most robust (least affected by outliers) and why."
   ]
  },
  {
   "cell_type": "code",
   "execution_count": null,
   "id": "q4_4_code",
   "metadata": {
    "tags": [
     "otter_answer_cell"
    ]
   },
   "outputs": [],
   "source": [
    "best_measure_of_center = ..."
   ]
  },
  {
   "cell_type": "code",
   "execution_count": null,
   "id": "4605e6d7",
   "metadata": {
    "deletable": false,
    "editable": false
   },
   "outputs": [],
   "source": [
    "grader.check(\"q4.4\")"
   ]
  },
  {
   "cell_type": "code",
   "execution_count": null,
   "id": "f4b5665b",
   "metadata": {},
   "outputs": [],
   "source": [
    "!./helpful-script.sh save 1>/dev/null"
   ]
  },
  {
   "cell_type": "markdown",
   "id": "bc018706",
   "metadata": {
    "vscode": {
     "languageId": "raw"
    }
   },
   "source": [
    "### Exercise: Applying Measures of Center to Skewed Data\n",
    "\n",
    "The code block below is the same histogram from Part 3, using the **right-skewed salary data with an outlier**. Use this visualization to answer the next two questions regarding the central tendency."
   ]
  },
  {
   "cell_type": "code",
   "execution_count": null,
   "id": "f6ba5420",
   "metadata": {},
   "outputs": [],
   "source": [
    "import numpy as np\n",
    "import pandas as pd\n",
    "import matplotlib.pyplot as plt\n",
    "\n",
    "# Set a seed for reproducibility\n",
    "np.random.seed(42)\n",
    "\n",
    "# Generate a right-skewed dataset (using exponential distribution, then scaling)\n",
    "skewed_data = np.random.exponential(scale=20000, size=500) + 30000\n",
    "\n",
    "# Introduce a single, extreme outlier\n",
    "salaries_data = np.append(skewed_data, [500000])\n",
    "\n",
    "# Create and display the histogram\n",
    "plt.figure(figsize=(10, 6))\n",
    "plt.hist(salaries_data, bins=30, edgecolor='black', alpha=0.7)\n",
    "plt.title('Distribution of Hypothetical Salaries (Right Skewed with Outlier)')\n",
    "plt.xlabel('Salary ($)')\n",
    "plt.ylabel('Frequency')\n",
    "plt.axvline(np.median(salaries_data), color='red', linestyle='dashed', linewidth=1, label='Median')\n",
    "plt.axvline(np.mean(salaries_data), color='green', linestyle='dashed', linewidth=1, label='Mean')\n",
    "plt.legend()\n",
    "plt.show()\n"
   ]
  },
  {
   "cell_type": "markdown",
   "id": "q4_5_prompt",
   "metadata": {
    "deletable": false,
    "editable": false
   },
   "source": [
    "### Question 4.5: Best Center Metric for Skewed Data (Application)\n",
    "\n",
    "Look closely at the histogram above, specifically at the positions of the **Mean** (green line) and the **Median** (red line). Which of these two metrics is the better measure for describing the *typical* salary in this specific dataset?"
   ]
  },
  {
   "cell_type": "code",
   "execution_count": null,
   "id": "q4_5_code",
   "metadata": {
    "tags": [
     "otter_answer_cell"
    ]
   },
   "outputs": [],
   "source": [
    "best_center_metric = ..."
   ]
  },
  {
   "cell_type": "code",
   "execution_count": null,
   "id": "73e3bf30",
   "metadata": {
    "deletable": false,
    "editable": false
   },
   "outputs": [],
   "source": [
    "grader.check(\"q4.5\")"
   ]
  },
  {
   "cell_type": "code",
   "execution_count": null,
   "id": "e0148789",
   "metadata": {},
   "outputs": [],
   "source": [
    "!./helpful-script.sh save 1>/dev/null"
   ]
  },
  {
   "cell_type": "markdown",
   "id": "q4_6_prompt",
   "metadata": {
    "deletable": false,
    "editable": false
   },
   "source": [
    "### Question 4.6: Justifying the Metric Choice\n",
    "\n",
    "Explain **why** the metric you chose in Question 4.5 is superior for describing the center of the `salaries_data` distribution, specifically considering the presence of the skew and the extreme outlier."
   ]
  },
  {
   "cell_type": "code",
   "execution_count": null,
   "id": "q4_6_code",
   "metadata": {
    "tags": [
     "otter_answer_cell"
    ]
   },
   "outputs": [],
   "source": [
    "justification_for_metric = ..."
   ]
  },
  {
   "cell_type": "code",
   "execution_count": null,
   "id": "b34578ff",
   "metadata": {
    "deletable": false,
    "editable": false
   },
   "outputs": [],
   "source": [
    "grader.check(\"q4.6\")"
   ]
  },
  {
   "cell_type": "code",
   "execution_count": null,
   "id": "a5d3310c",
   "metadata": {},
   "outputs": [],
   "source": [
    "!./helpful-script.sh save 1>/dev/null"
   ]
  }
 ],
 "metadata": {
  "kernelspec": {
   "display_name": "Python 3 (ipykernel)",
   "language": "python",
   "name": "python3"
  },
  "language_info": {
   "codemirror_mode": {
    "name": "ipython",
    "version": 3
   },
   "file_extension": ".py",
   "mimetype": "text/x-python",
   "name": "python",
   "nbconvert_exporter": "python",
   "pygments_lexer": "ipython3",
   "version": "3.12.1"
  },
  "otter": {
   "OK_FORMAT": true,
   "tests": {
    "q1.1": {
     "name": "q1.1",
     "points": 10,
     "suites": [
      {
       "cases": [
        {
         "code": ">>> assert type(pop_vs_sample) == str, \"'pop_vs_sample' must be a string.\"\n",
         "hidden": false,
         "locked": false
        }
       ],
       "scored": true,
       "setup": "",
       "teardown": "",
       "type": "doctest"
      }
     ]
    },
    "q1.2": {
     "name": "q1.2",
     "points": 10,
     "suites": [
      {
       "cases": [
        {
         "code": ">>> assert type(why_sample) == str, \"'why_sample' must be a string.\"\n",
         "hidden": false,
         "locked": false
        }
       ],
       "scored": true,
       "setup": "",
       "teardown": "",
       "type": "doctest"
      }
     ]
    },
    "q1.3": {
     "name": "q1.3",
     "points": 10,
     "suites": [
      {
       "cases": [
        {
         "code": ">>> assert type(good_vs_bad_sample) == str, \"'good_vs_bad_sample' must be a string.\"\n",
         "hidden": false,
         "locked": false
        }
       ],
       "scored": true,
       "setup": "",
       "teardown": "",
       "type": "doctest"
      }
     ]
    },
    "q1.4": {
     "name": "q1.4",
     "points": 10,
     "suites": [
      {
       "cases": [
        {
         "code": ">>> assert type(sampling_methods) == str, \"'sampling_methods' must be a string.\"\n",
         "hidden": false,
         "locked": false
        }
       ],
       "scored": true,
       "setup": "",
       "teardown": "",
       "type": "doctest"
      }
     ]
    },
    "q1.5": {
     "name": "q1.5",
     "points": 10,
     "suites": [
      {
       "cases": [
        {
         "code": ">>> assert type(sampling_comparison) == str, \"'sampling_comparison' must be a string.\"\n",
         "hidden": false,
         "locked": false
        }
       ],
       "scored": true,
       "setup": "",
       "teardown": "",
       "type": "doctest"
      }
     ]
    },
    "q2.1": {
     "name": "q2.1",
     "points": 10,
     "suites": [
      {
       "cases": [
        {
         "code": ">>> assert type(sampling_bias_def) == str, \"'sampling_bias_def' must be a string.\"\n",
         "hidden": false,
         "locked": false
        }
       ],
       "scored": true,
       "setup": "",
       "teardown": "",
       "type": "doctest"
      }
     ]
    },
    "q2.2": {
     "name": "q2.2",
     "points": 10,
     "suites": [
      {
       "cases": [
        {
         "code": ">>> assert type(biased_example) == str, \"'biased_example' must be a string.\"\n",
         "hidden": false,
         "locked": false
        }
       ],
       "scored": true,
       "setup": "",
       "teardown": "",
       "type": "doctest"
      }
     ]
    },
    "q2.3": {
     "name": "q2.3",
     "points": 10,
     "suites": [
      {
       "cases": [
        {
         "code": ">>> assert type(response_rate_effect) == str, \"'response_rate_effect' must be a string.\"\n",
         "hidden": false,
         "locked": false
        }
       ],
       "scored": true,
       "setup": "",
       "teardown": "",
       "type": "doctest"
      }
     ]
    },
    "q2.4": {
     "name": "q2.4",
     "points": 10,
     "suites": [
      {
       "cases": [
        {
         "code": ">>> assert type(representative_sample_importance) == str, \"'representative_sample_importance' must be a string.\"\n",
         "hidden": false,
         "locked": false
        }
       ],
       "scored": true,
       "setup": "",
       "teardown": "",
       "type": "doctest"
      }
     ]
    },
    "q3.1": {
     "name": "q3.1",
     "points": 10,
     "suites": [
      {
       "cases": [
        {
         "code": ">>> assert type(distribution_meaning) == str, \"'distribution_meaning' must be a string.\"\n",
         "hidden": false,
         "locked": false
        }
       ],
       "scored": true,
       "setup": "",
       "teardown": "",
       "type": "doctest"
      }
     ]
    },
    "q3.2": {
     "name": "q3.2",
     "points": 10,
     "suites": [
      {
       "cases": [
        {
         "code": ">>> assert type(histogram_info) == str, \"'histogram_info' must be a string.\"\n",
         "hidden": false,
         "locked": false
        }
       ],
       "scored": true,
       "setup": "",
       "teardown": "",
       "type": "doctest"
      }
     ]
    },
    "q3.3": {
     "name": "q3.3",
     "points": 10,
     "suites": [
      {
       "cases": [
        {
         "code": ">>> assert type(normal_dist_importance) == str, \"'normal_dist_importance' must be a string.\"\n",
         "hidden": false,
         "locked": false
        }
       ],
       "scored": true,
       "setup": "",
       "teardown": "",
       "type": "doctest"
      }
     ]
    },
    "q3.4": {
     "name": "q3.4",
     "points": 10,
     "suites": [
      {
       "cases": [
        {
         "code": ">>> assert type(outlier_effect) == str, \"'outlier_effect' must be a string.\"\n",
         "hidden": false,
         "locked": false
        }
       ],
       "scored": true,
       "setup": "",
       "teardown": "",
       "type": "doctest"
      }
     ]
    },
    "q3.5": {
     "name": "q3.5",
     "points": 10,
     "suites": [
      {
       "cases": [
        {
         "code": ">>> assert type(skewness_and_center) == str, \"'skewness_and_center' must be a string.\"\n",
         "hidden": false,
         "locked": false
        }
       ],
       "scored": true,
       "setup": "",
       "teardown": "",
       "type": "doctest"
      }
     ]
    },
    "q3.6": {
     "name": "q3.6",
     "points": 10,
     "suites": [
      {
       "cases": [
        {
         "code": ">>> assert type(outlier_location) == str, \"'outlier_location' must be a string.\"\n",
         "hidden": false,
         "locked": false
        }
       ],
       "scored": true,
       "setup": "",
       "teardown": "",
       "type": "doctest"
      }
     ]
    },
    "q4.1": {
     "name": "q4.1",
     "points": 10,
     "suites": [
      {
       "cases": [
        {
         "code": ">>> assert type(center_measures_difference) == str, \"'center_measures_difference' must be a string.\"\n",
         "hidden": false,
         "locked": false
        }
       ],
       "scored": true,
       "setup": "",
       "teardown": "",
       "type": "doctest"
      }
     ]
    },
    "q4.2": {
     "name": "q4.2",
     "points": 10,
     "suites": [
      {
       "cases": [
        {
         "code": ">>> assert type(spread_measures) == str, \"'spread_measures' must be a string.\"\n",
         "hidden": false,
         "locked": false
        }
       ],
       "scored": true,
       "setup": "",
       "teardown": "",
       "type": "doctest"
      }
     ]
    },
    "q4.3": {
     "name": "q4.3",
     "points": 10,
     "suites": [
      {
       "cases": [
        {
         "code": ">>> assert type(outlier_on_stats) == str, \"'outlier_on_stats' must be a string.\"\n",
         "hidden": false,
         "locked": false
        }
       ],
       "scored": true,
       "setup": "",
       "teardown": "",
       "type": "doctest"
      }
     ]
    },
    "q4.4": {
     "name": "q4.4",
     "points": 10,
     "suites": [
      {
       "cases": [
        {
         "code": ">>> assert type(best_measure_of_center) == str, \"'best_measure_of_center' must be a string.\"\n",
         "hidden": false,
         "locked": false
        }
       ],
       "scored": true,
       "setup": "",
       "teardown": "",
       "type": "doctest"
      }
     ]
    },
    "q4.5": {
     "name": "q4.5",
     "points": 10,
     "suites": [
      {
       "cases": [
        {
         "code": ">>> assert type(best_center_metric) == str, \"'best_center_metric' must be a string.\"\n",
         "hidden": false,
         "locked": false
        }
       ],
       "scored": true,
       "setup": "",
       "teardown": "",
       "type": "doctest"
      }
     ]
    },
    "q4.6": {
     "name": "q4.6",
     "points": 10,
     "suites": [
      {
       "cases": [
        {
         "code": ">>> assert type(justification_for_metric) == str, \"'justification_for_metric' must be a string.\"\n",
         "hidden": false,
         "locked": false
        }
       ],
       "scored": true,
       "setup": "",
       "teardown": "",
       "type": "doctest"
      }
     ]
    }
   }
  }
 },
 "nbformat": 4,
 "nbformat_minor": 5
}
